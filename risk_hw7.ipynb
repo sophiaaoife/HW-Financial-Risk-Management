{
 "cells": [
  {
   "cell_type": "code",
   "execution_count": 24,
   "id": "a58590f7-37da-4fb7-986e-56184f407058",
   "metadata": {},
   "outputs": [],
   "source": [
    "import sympy as sp\n",
    "from math import *\n",
    "from scipy.optimize import fsolve\n",
    "import matplotlib.pyplot as plt\n",
    "import numpy as np"
   ]
  },
  {
   "cell_type": "code",
   "execution_count": 11,
   "id": "68b03db2-b559-4c82-8a92-14e892708f6b",
   "metadata": {},
   "outputs": [],
   "source": [
    "import warnings\n",
    "warnings.filterwarnings('ignore')"
   ]
  },
  {
   "cell_type": "markdown",
   "id": "5fe685cc-7556-423d-a493-c5a707ff8862",
   "metadata": {},
   "source": [
    "## Q1. Bootstrapping a CDS curve\n",
    "1. Recover the hazard rate curve from the slide “Bootstrapping Default Probabilities from CDS” (slide 17) of the notes."
   ]
  },
  {
   "cell_type": "markdown",
   "id": "4b0989c1-e44c-4d69-82b8-0f2ea2879460",
   "metadata": {},
   "source": [
    "$$\\begin{align*}\n",
    "CDS Spread=(1-R)\\frac{\\int_0^T\\lambda(\\tau)e^{-\\int_0^{\\tau}r(u+\\lambda(u)du)}d\\tau}{\\int_0^Te^{-\\int_0^{\\tau}r(u+\\lambda(u)du)}d\\tau}\n",
    "\\end{align*}$$"
   ]
  },
  {
   "cell_type": "code",
   "execution_count": 2,
   "id": "dd8b98b8-4272-4c8f-8cad-39f46b767a92",
   "metadata": {},
   "outputs": [],
   "source": [
    "def equation1(lambda0):\n",
    "    return 50 * 10**(-4) - (1 - 0.6) * lambda0\n",
    "def equation2(lambda3):\n",
    "    return 60 * 10**(-4) - (1 - 0.6) * (1 - exp(-3 * lambda0) + exp(-3 * lambda0) * (1 - exp(-2 * lambda3))) / ((1 - exp(-3 * lambda0)) / lambda0 + exp(-3 * lambda0) / lambda3 * (1 - exp(-2 * lambda3)))\n",
    "def equation3(lambda5):\n",
    "    return 100 * 10**(-4) - (1 - 0.6) * (1 - exp(-3 * lambda0) + exp(-3 * lambda0) * (1 - exp(-2 * lambda3)) + exp(-3 * lambda0 - 2 * lambda3) * (1 - exp(-5 * lambda5))) / ((1 - exp(-3 * lambda0)) / lambda0 + exp(-3 * lambda0) / lambda3 * (1 - exp(-2 * lambda3)) + exp(-3 * lambda0 - 2 * lambda3) / lambda5 * (1 - exp(-5 * lambda5)))\n"
   ]
  },
  {
   "cell_type": "code",
   "execution_count": 3,
   "id": "a804d7b8-a09c-40b7-ad5d-55d5c237bd34",
   "metadata": {},
   "outputs": [],
   "source": [
    "lambda0 = fsolve(equation1, [0.1])[0]"
   ]
  },
  {
   "cell_type": "code",
   "execution_count": 12,
   "id": "f2777c7c-5c49-41b7-b5eb-b97c0db6ccbb",
   "metadata": {},
   "outputs": [],
   "source": [
    "lambda3 = fsolve(equation2, [0.1])[0]"
   ]
  },
  {
   "cell_type": "code",
   "execution_count": 13,
   "id": "ec363d7b-d25d-465e-a7bd-90c1b44f3c79",
   "metadata": {},
   "outputs": [],
   "source": [
    "lambda5 = fsolve(equation3, [0.1])[0]"
   ]
  },
  {
   "cell_type": "code",
   "execution_count": 16,
   "id": "ad0dd210-2806-4f22-9a57-93f064254779",
   "metadata": {},
   "outputs": [
    {
     "data": {
      "text/plain": [
       "Text(0, 0.5, 'Hazard Rate')"
      ]
     },
     "execution_count": 16,
     "metadata": {},
     "output_type": "execute_result"
    },
    {
     "data": {
      "image/png": "[encoded data removed]",
      "text/plain": [
       "<Figure size 600x400 with 1 Axes>"
      ]
     },
     "metadata": {},
     "output_type": "display_data"
    }
   ],
   "source": [
    "plt.figure(figsize = (6, 4))\n",
    "plt.hlines(lambda0, 0, 3)\n",
    "plt.hlines(lambda3, 3, 5)\n",
    "plt.hlines(lambda5, 5, 10)\n",
    "plt.title(\"Hazard Rate\")\n",
    "plt.xlabel(\"T\")\n",
    "plt.ylabel(\"Hazard Rate\")"
   ]
  },
  {
   "cell_type": "markdown",
   "id": "bd6c8935-12c7-4c97-b305-663b577292a1",
   "metadata": {},
   "source": [
    "2. Use this hazard rate curve to price a 6-year bond on the same company which pays 2% coupon every 6 month and has face value $100."
   ]
  },
  {
   "cell_type": "code",
   "execution_count": 28,
   "id": "6a4112b0-2a1c-4da7-9ebf-a7d83af167d7",
   "metadata": {},
   "outputs": [
    {
     "data": {
      "text/plain": [
       "112.30931331084605"
      ]
     },
     "execution_count": 28,
     "metadata": {},
     "output_type": "execute_result"
    }
   ],
   "source": [
    "# risk-free rate = 0\n",
    "V_t = np.exp(np.cumsum([-lambda0 * 0.5] * 6 + [-lambda3 * 0.5] * 4 + [-lambda5 * 0.5] * 2)) # probability of surviving\n",
    "2 * np.sum(V_t) + 100 * V_t[-1]"
   ]
  },
  {
   "cell_type": "markdown",
   "id": "cc4d9722-6fe8-4405-af96-002843e7f3c4",
   "metadata": {},
   "source": [
    "## Q2. Historical vs bond-implied hazard rates\n",
    "Explain the patterns you see in the tamble on the slide “Comparing Hazard Rates” (slide 19) of the notes"
   ]
  },
  {
   "cell_type": "markdown",
   "id": "e2b68c28-f46b-4f7c-97c8-60ec8874c46a",
   "metadata": {},
   "source": [
    "**Patterns and Trends**\n",
    "1. High Ratios for High Credit Ratings:\n",
    "    The ratios for Aaa and Aa ratings are significantly higher than those for lower ratings, at 17.3 and 7.4 respectively. This indicates that the market-implied hazard rates for high credit ratings are much higher than historical rates. This could be because the market prices in a higher default risk for these bonds despite their low historical default rates.\n",
    "2. Lower Ratios for Low Credit Ratings:\n",
    "    The ratios for Ba, B, and Caa ratings are lower, at 2.2, 1.5, and 1.5 respectively. This suggests that the market-implied hazard rates for low credit ratings are closer to historical rates. This might be because the high default risk for these bonds is already well reflected in historical data, and the market prices them accordingly.\n",
    "3. Larger Absolute Differences for High Credit Ratings:\n",
    "    The absolute differences for Aaa, Aa, and A ratings are relatively large, at 0.561%, 0.630%, and 0.912% respectively. This means that despite the low historical default rates, the market significantly overestimates the default risk for these ratings.\n",
    "4. Largest Absolute Difference for Caa Rating:\n",
    "    The Caa rating has the largest absolute difference of 6.379%. This indicates that the market perceives a much higher default risk for the lowest-rated bonds compared to historical data, reflecting a heightened sensitivity and caution towards extremely high-risk bonds.\n",
    "\n",
    "**Explanation of Reasons**\n",
    "1. Market Risk Premium:\n",
    "    The market generally demands higher yields for higher-risk bonds (lower credit ratings), reflected in higher implied hazard rates.\n",
    "2. Asymmetry in Credit Ratings:\n",
    "    For high credit ratings, due to infrequent default events, the market might overestimate default risk to avoid underestimating the risk.\n",
    "3. Differences in Time Span and Data Sources:\n",
    "    Moody’s data spans a longer period (1970-2013), while Merrill Lynch’s data spans a shorter period (1996-2007). Differences in economic conditions and market environments across these periods could lead to variations in estimated hazard rates.\n"
   ]
  },
  {
   "cell_type": "markdown",
   "id": "a64eda01-e6d7-4bdf-86f4-ce8d80486f46",
   "metadata": {},
   "source": [
    "## Q3. Optional: Dynamic credit model\n",
    "Consider 8 categories: AAA, AA, A BBB, BB, B, CCC and default. We are interested in constructing a stochastic dynamic model of rating and default in continuous time. For this we will use the information in slide “Rating Transitions” (slide 7) of the notes.\n",
    "1. Let us call P (t) the 8 × 8 matrix of transition probability after time t. This means that Pij (t) is the probability of being in category j at date t if the firm is in category i at date 0.\n",
    "* (a) What is P (0)?\n",
    "* (b) What is P (1)?"
   ]
  },
  {
   "cell_type": "code",
   "execution_count": null,
   "id": "4ba1439d-f6dc-4d8e-bea3-7a87b0c25c01",
   "metadata": {},
   "outputs": [],
   "source": []
  },
  {
   "cell_type": "markdown",
   "id": "613bc47e-61f3-4f6f-964f-6aa417760beb",
   "metadata": {},
   "source": [
    "2. Just like we defined the hazard rate has the instantaneous probability of default, we can consider instantaneous transition probability λij such that λij dt is the probability of going from rating i to rating j during an interval dt if i ̸ = j. When i = j, we define λii as the opposite of the intensity of leaving state i: λii = − Pj̸ =i λij . We can put all these in a matrix Λ. Express Λ as a function of P and its first derivative."
   ]
  },
  {
   "cell_type": "code",
   "execution_count": null,
   "id": "27f552c6-e720-4a53-b3f2-daad6084cd99",
   "metadata": {},
   "outputs": [],
   "source": []
  },
  {
   "cell_type": "markdown",
   "id": "5f5b9265-c2b8-4d5c-92a3-378f8e202483",
   "metadata": {},
   "source": [
    "3. Assuming that Λ is constant over time, derive an expression relating P (1) and Λ."
   ]
  },
  {
   "cell_type": "code",
   "execution_count": null,
   "id": "1a03c957-128f-4580-b637-9e498af46eac",
   "metadata": {},
   "outputs": [],
   "source": []
  },
  {
   "cell_type": "markdown",
   "id": "a5135c88-6a20-45ed-8c75-72efb1035ec7",
   "metadata": {},
   "source": [
    "4. Compute Λ for the values of slide “Rating Transitions” (slide 7) of the notes."
   ]
  },
  {
   "cell_type": "code",
   "execution_count": null,
   "id": "9e398f49-81c9-4ac6-b864-74be50bd519f",
   "metadata": {},
   "outputs": [],
   "source": []
  },
  {
   "cell_type": "markdown",
   "id": "944d146e-6eb9-42f7-8423-67cca27a5752",
   "metadata": {},
   "source": [
    "5. Use this matrix Λ to compute the probabilities of default at horizon 1, 2, 3, 4, 5, 7, and 10 years given each initial rating."
   ]
  },
  {
   "cell_type": "code",
   "execution_count": null,
   "id": "8ada0fea-444d-47f7-b12b-7b6cbee8c61f",
   "metadata": {},
   "outputs": [],
   "source": []
  },
  {
   "cell_type": "markdown",
   "id": "99dfbb36-0a12-4fc1-b152-65ca6a05bffc",
   "metadata": {},
   "source": [
    "6. Compare your results to the slide “Historical Default Probabilities” (slide 6) of the notes. What can explain the similarities and differences?"
   ]
  },
  {
   "cell_type": "code",
   "execution_count": null,
   "id": "42d837c7-8b67-495f-99a4-9b7f3de90a61",
   "metadata": {},
   "outputs": [],
   "source": []
  },
  {
   "cell_type": "markdown",
   "id": "c9946f91-0f79-445f-bd14-6fd083651326",
   "metadata": {},
   "source": [
    "7. Use this model to price a 6-year bond on a BBB company which pays 3% coupon every 6 month and has face value $100. Assume that the risk-free interest rate is 0% and recovery is 60%"
   ]
  },
  {
   "cell_type": "code",
   "execution_count": null,
   "id": "f4d5a833-dcbb-403f-ae57-e326e66d0970",
   "metadata": {},
   "outputs": [],
   "source": []
  },
  {
   "cell_type": "markdown",
   "id": "c0d8843e-087e-48fd-94a4-89a866173ae2",
   "metadata": {},
   "source": [
    "8. Compute the 3, 5, and 10-year CDS spreads for the same company."
   ]
  },
  {
   "cell_type": "code",
   "execution_count": null,
   "id": "2ef7c7a7-da6e-49b4-ada7-f4a88f783c79",
   "metadata": {},
   "outputs": [],
   "source": []
  },
  {
   "cell_type": "code",
   "execution_count": null,
   "id": "a8d3ecf4-c834-4d32-b7b3-44fd18118663",
   "metadata": {},
   "outputs": [],
   "source": []
  }
 ],
 "metadata": {
  "kernelspec": {
   "display_name": "Python 3 (ipykernel)",
   "language": "python",
   "name": "python3"
  },
  "language_info": {
   "codemirror_mode": {
    "name": "ipython",
    "version": 3
   },
   "file_extension": ".py",
   "mimetype": "text/x-python",
   "name": "python",
   "nbconvert_exporter": "python",
   "pygments_lexer": "ipython3",
   "version": "3.11.7"
  }
 },
 "nbformat": 4,
 "nbformat_minor": 5
}
