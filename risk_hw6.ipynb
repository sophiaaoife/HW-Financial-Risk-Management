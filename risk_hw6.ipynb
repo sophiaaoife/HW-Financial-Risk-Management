{
 "cells": [
  {
   "cell_type": "markdown",
   "id": "858aa4d7-14c4-4a2e-bd44-5b4a8c98a0c5",
   "metadata": {},
   "source": [
    "## Q1. Risk management and regulation after the 2008 Financial Crisis\n",
    "Each study group is assigned to a bank as follows and reponsible for summarizing their risk management policies. Your group number can be found in the attached list. Barclays Capital\n",
    "\n",
    "Download their 2009 and most recent annual reports (10-K for US firms and 20-F or 6-K for foreign firms) from SEC’s website (https://www.sec.gov/edgar/searchedgar/companysearch.htm Write a short essay describing the approach of the bank is following for risk management. In particular, describe how it computes the various risk measures to respect the Basel regulations."
   ]
  },
  {
   "cell_type": "markdown",
   "id": "153be623-7f3b-48df-8c79-85dd76b85afc",
   "metadata": {},
   "source": [
    "Barclays Bank employs a robust approach to risk management, adapting its strategies over the years to align with evolving financial regulations, notably the Basel requirements. The bank's approach to managing market risk, especially within its trading activities, highlights its commitment to maintaining a resilient financial framework.\n",
    "\n",
    "* Market Risk Management in **2009**: In 2009, Barclays primarily concentrated its trading activities in Barclays Capital, managing both client and market activities for maximum efficiency​​. The bank utilized a variety of risk measurement techniques, including **Daily Value at Risk (DVaR), Expected Shortfall, and stress testing** across global asset classes. DVaR, which is an estimate of potential loss from unfavorable market movements if positions remain unchanged, was calculated using a historical simulation methodology over a two-year period, adhering to a 95% confidence level. This model was approved by the Financial Services Authority (FSA) to calculate regulatory capital for the trading book, demonstrating compliance with regulatory requirements​​.\n",
    "* Approach in **2023**: By 2023, Barclays' risk management strategies had evolved, reflecting broader financial markets and regulatory changes. The bank's risk control environment included sophisticated frameworks and policies designed to manage a variety of financial and non-financial risks, including credit, market, operational, and climate risks​​. This comprehensive risk management framework ensured that risks were identified, measured, managed, and reported consistently across the bank, demonstrating an integrated approach to addressing the potential impacts of varied risk factors on its operations.\n",
    "\n",
    "These frameworks are critical for complying with Basel regulations, which require banks to maintain sufficient capital adequacy, manage credit risk, and conduct regular stress testing to ensure financial stability. Barclays' continuous updates to its risk measurement and management processes illustrate its commitment to meeting these regulatory standards while adapting to changes in the financial landscape.\n",
    "\n",
    "Overall, Barclays Bank has shown a proactive approach to risk management, aligning its strategies with regulatory requirements and industry best practices to safeguard its assets and maintain financial stability. This ongoing evolution of risk management practices is essential for meeting the challenges of an increasingly complex and dynamic global financial environment."
   ]
  },
  {
   "cell_type": "markdown",
   "id": "c317ae02-f22a-4272-9222-e4cf69637fea",
   "metadata": {},
   "source": [
    "## Q2. Interview questions\n",
    "1. You are long an option that promises to pay the square of the stock price in three months ($S^2_{t+3months}$). Does the delta approach to computing VaR underestimate or overestimate your risk?"
   ]
  },
  {
   "cell_type": "markdown",
   "id": "bf7d8bce-b708-4951-bda9-2ad8bc33fb65",
   "metadata": {},
   "source": [
    "We will underestimate the VaR since with the square of the stock price, we can lose in two ways."
   ]
  },
  {
   "cell_type": "markdown",
   "id": "e1423e15-cc86-4d27-a54b-5a8750e53e95",
   "metadata": {},
   "source": [
    "2. A stock has been going up 10% each year for the past three years. What is the three-month forward price of this stock today?"
   ]
  },
  {
   "cell_type": "markdown",
   "id": "8ca0fb6a-68dc-482a-af0e-04f7b72e5499",
   "metadata": {},
   "source": [
    "$$\\begin{align*}\n",
    "F=S_t*(1+0.1)^{3/12}\n",
    "\\end{align*}$$"
   ]
  },
  {
   "cell_type": "markdown",
   "id": "1386fdcd-b85a-4bb7-b5fe-19d36bda97f0",
   "metadata": {},
   "source": [
    "3. You are trading quanto options. What are the important sources of risks to include in your risk management model. If you are not familiar with quanto options, you can find information online"
   ]
  },
  {
   "cell_type": "markdown",
   "id": "9342a058-c5d9-4533-b13b-8f96747d07e0",
   "metadata": {},
   "source": [
    "* Exchange Rate Risk: Though the quanto option hedges against fluctuations in the exchange rate by fixing the rate at contract inception, the pricing and valuation still need to factor in the expected stability or volatility of the exchange rates between the currencies involved.\n",
    "* Correlation Risk: Quanto options are sensitive to the correlation between the foreign asset's return and the exchange rate. "
   ]
  },
  {
   "cell_type": "code",
   "execution_count": null,
   "id": "b4a8ea30-ca6c-40b0-8f4b-a011c9df7942",
   "metadata": {},
   "outputs": [],
   "source": []
  }
 ],
 "metadata": {
  "kernelspec": {
   "display_name": "Python 3 (ipykernel)",
   "language": "python",
   "name": "python3"
  },
  "language_info": {
   "codemirror_mode": {
    "name": "ipython",
    "version": 3
   },
   "file_extension": ".py",
   "mimetype": "text/x-python",
   "name": "python",
   "nbconvert_exporter": "python",
   "pygments_lexer": "ipython3",
   "version": "3.11.7"
  }
 },
 "nbformat": 4,
 "nbformat_minor": 5
}
