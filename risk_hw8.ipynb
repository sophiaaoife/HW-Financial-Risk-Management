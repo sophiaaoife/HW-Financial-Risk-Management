{
 "cells": [
  {
   "cell_type": "markdown",
   "id": "6e514656-bb2c-4bac-9394-cdbf3545df31",
   "metadata": {},
   "source": [
    "# Q1. LTCM"
   ]
  },
  {
   "cell_type": "markdown",
   "id": "4ec2e634-6401-4f3f-a8fd-54dc86fd5722",
   "metadata": {},
   "source": [
    "Please read in details the paper “Risk Management Lessons from Long-Term Capital Mangement” by Philippe Jorion (on BruinLearn Module 10). Write short essays answering the following questions\n",
    "1. What was the broad trading strategy of LTCM?"
   ]
  },
  {
   "cell_type": "markdown",
   "id": "fd948eae-4196-4d06-9479-e5d55d0f3612",
   "metadata": {},
   "source": [
    "* Fixed-Income Arbitrage: Exploiting differences in prices between related fixed-income securities, such as bonds and derivatives.\n",
    "* Equity Arbitrage: Identifying price inefficiencies in the stock market, including index arbitrage.\n",
    "* Volatility Arbitrage: Betting on the convergence of implied and actual volatility.\n",
    "* Merger Arbitrage: Capitalizing on price differences between the stocks of merging companies."
   ]
  },
  {
   "cell_type": "markdown",
   "id": "e4298513-ecb9-4658-8393-428eb5dbdcba",
   "metadata": {},
   "source": [
    "2. Why did they need so much leverage?"
   ]
  },
  {
   "cell_type": "markdown",
   "id": "2e0a16a5-2ed3-478d-934a-df764add1513",
   "metadata": {},
   "source": [
    "LTCM needed substantial leverage due to the small profit margins on their arbitrage trades. To generate significant returns, LTCM amplified these small profits through borrowing, employing leverage ratios as high as 25:1. This high leverage allowed them to control large positions relative to their capital base, magnifying potential profits. However, it also significantly increased their exposure to risk, making them vulnerable to adverse market movements."
   ]
  },
  {
   "cell_type": "markdown",
   "id": "2870eef7-ecca-41dd-a67c-0708c5edcc59",
   "metadata": {},
   "source": [
    "3. How did their demise happen?"
   ]
  },
  {
   "cell_type": "markdown",
   "id": "7885a640-4953-4e8e-b8aa-8e68e5f21ec2",
   "metadata": {},
   "source": [
    "    In 1998, the Russian government defaulted on its debt, leading to a global financial crisis. This event caused widespread panic and liquidity crunches in financial markets. Investors fled to safe assets, causing the price discrepancies LTCM bet on to widen instead of converge. This resulted in significant losses. As losses mounted, LTCM faced margin calls and had to liquidate positions in illiquid markets, exacerbating their losses and causing a further downward spiral. The high leverage that fueled their profits now magnified their losses, leading to rapid depletion of their capital."
   ]
  },
  {
   "cell_type": "markdown",
   "id": "74d6a090-2d01-4041-934e-01d1b9cb0535",
   "metadata": {},
   "source": [
    "4. What were the most important issues with their risk management approach?"
   ]
  },
  {
   "cell_type": "markdown",
   "id": "473bef88-a0ea-4f19-9036-6e05a8857c9a",
   "metadata": {},
   "source": [
    "* Underestimation of Tail Risk: Their models underestimated the probability and impact of extreme market events, failing to account for rare but severe market disruptions.\n",
    "* Inadequate Stress Testing: LTCM did not adequately stress-test their portfolio for extreme scenarios, leaving them unprepared for the scale of the market downturn.\n",
    "* Liquidity Risk: They failed to consider the liquidity risk associated with their large, leveraged positions, leading to forced liquidations at unfavorable prices.\n",
    "* Overconfidence in Models: The reliance on historical data and mathematical models led to a false sense of security, ignoring the possibility of unprecedented events."
   ]
  },
  {
   "cell_type": "markdown",
   "id": "48ff85da-e718-4d85-8014-450a3276b553",
   "metadata": {},
   "source": [
    "5. How would you manage risk for a fund trying to trade similar stratege?"
   ]
  },
  {
   "cell_type": "markdown",
   "id": "9d26400c-805b-4280-8e20-46695045e2a0",
   "metadata": {},
   "source": [
    "* Diversification: Reducing concentration risk by diversifying trades across uncorrelated markets and strategies.\n",
    "* Robust Stress Testing: Regularly conducting stress tests to model the impact of extreme market scenarios and prepare for potential adverse conditions.\n",
    "* Tail Risk Hedging: Implementing strategies to hedge against tail risks, such as options or other derivatives designed to protect against extreme market movements.\n",
    "* Liquidity Management: Ensuring sufficient liquidity to meet margin calls without forced asset sales, and maintaining liquid reserves for emergencies.,"
   ]
  },
  {
   "cell_type": "markdown",
   "id": "8682d50f-a24c-49db-b5a1-8f7d5867cae3",
   "metadata": {},
   "source": [
    "# Q2. Merton model for credit risk\n",
    "A company’s equity is $\\$4$ billion and the volatility of equity is $60\\%$. The face value of debt is $20 billion and time to debt maturity is 3 year. The risk-free rate is 5.5%. Make sure to show and explain all steps.\n",
    "1. What is the distance to default?"
   ]
  },
  {
   "cell_type": "markdown",
   "id": "ae69fd6a-11db-4e05-a25a-db35d6588b71",
   "metadata": {},
   "source": [
    "$$d_2 = \\frac{ln(V_0/F)+(r-\\frac{\\sigma^2}{2})T}{\\sigma\\sqrt{T}}$$"
   ]
  },
  {
   "cell_type": "code",
   "execution_count": 52,
   "id": "f365f4f3-9b20-44a3-a8a2-5ac521c6cbf7",
   "metadata": {},
   "outputs": [
    {
     "name": "stdout",
     "output_type": "stream",
     "text": [
      "The V0 is 20.262705856868312 and sigma is  0.1493138753460894\n"
     ]
    }
   ],
   "source": [
    "from math import *\n",
    "from scipy.optimize import fsolve\n",
    "\n",
    "F = 20\n",
    "E = 4\n",
    "r = 0.055\n",
    "T = 3\n",
    "sigma_E = 0.6\n",
    "\n",
    "def solve_merton(params, F, T, r, E, sigma_E):\n",
    "    V0, sigma = params\n",
    "    return [V0*norm.cdf((log(V0/F)+(r+sigma**2/2)*T)/(sigma*sqrt(T))) - F*exp(-r*T)*norm.cdf((log(V0/F)+(r-sigma**2/2)*T)/(sigma*sqrt(T))) - E,\n",
    "            norm.cdf((log(V0/F)+(r+sigma**2/2)*T)/(sigma*sqrt(T)))*sigma*V0 - sigma_E * E]\n",
    "\n",
    "V0,sigma = fsolve(solve_merton, (20, 0.5), args=(F, T, r, E, sigma_E))\n",
    "print('The V0 is', V0, 'and sigma is ', sigma)"
   ]
  },
  {
   "cell_type": "code",
   "execution_count": 53,
   "id": "340ee8c6-ee41-430e-9c22-40def3a27d86",
   "metadata": {},
   "outputs": [
    {
     "name": "stdout",
     "output_type": "stream",
     "text": [
      "The distance to default is  0.56\n"
     ]
    }
   ],
   "source": [
    "d2 = (log(V0/F)+(r-sigma**2/2)*T)/(sigma*sqrt(T))\n",
    "print('The distance to default is ', round(d2,2))"
   ]
  },
  {
   "cell_type": "markdown",
   "id": "55753d56-a11c-440f-b062-93f12443a590",
   "metadata": {},
   "source": [
    "2. What is the default probability?"
   ]
  },
  {
   "cell_type": "code",
   "execution_count": 54,
   "id": "4fa26a5b-51be-4958-aa62-e80bdd7779c4",
   "metadata": {},
   "outputs": [
    {
     "name": "stdout",
     "output_type": "stream",
     "text": [
      "The default probability is 0.288\n"
     ]
    }
   ],
   "source": [
    "from scipy.stats import norm\n",
    "print('The default probability is', round(norm.cdf(-d2),3))"
   ]
  },
  {
   "cell_type": "markdown",
   "id": "f7fa78f7-0a29-4f9e-bc61-789b4f382c4f",
   "metadata": {},
   "source": [
    "3. What is the expected recovery rate on the debt?"
   ]
  },
  {
   "cell_type": "markdown",
   "id": "ec967779-b56b-46ee-8287-a6c2b2ab9177",
   "metadata": {},
   "source": [
    "* the market value of debt is $V_0-E_0=20.26-4=16.26$\n",
    "* present value of debt is $20*exp(-0.055*3)=16.95$\n",
    "* expected loss is $1-16.26/16.95 = 4.1\\%$\n",
    "* recovery rate = $1 - 4.1\\%/28.8\\% = 0.8576$"
   ]
  },
  {
   "cell_type": "code",
   "execution_count": null,
   "id": "e42f4c88-173d-4903-b804-e7b0004eded3",
   "metadata": {},
   "outputs": [],
   "source": []
  }
 ],
 "metadata": {
  "kernelspec": {
   "display_name": "Python 3 (ipykernel)",
   "language": "python",
   "name": "python3"
  },
  "language_info": {
   "codemirror_mode": {
    "name": "ipython",
    "version": 3
   },
   "file_extension": ".py",
   "mimetype": "text/x-python",
   "name": "python",
   "nbconvert_exporter": "python",
   "pygments_lexer": "ipython3",
   "version": "3.11.7"
  }
 },
 "nbformat": 4,
 "nbformat_minor": 5
}
